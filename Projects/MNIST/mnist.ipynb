{
 "cells": [
  {
   "cell_type": "code",
   "execution_count": 1,
   "metadata": {},
   "outputs": [],
   "source": [
    "from sklearn.datasets import fetch_openml\n",
    "from sklearn.linear_model import SGDClassifier\n",
    "from sklearn.ensemble import RandomForestClassifier\n",
    "from sklearn.neighbors import KNeighborsClassifier\n",
    "from sklearn.base import clone\n",
    "\n",
    "from sklearn.model_selection import StratifiedKFold  # stratified sampling\n",
    "from sklearn.model_selection import cross_val_score\n",
    "from sklearn.model_selection import cross_val_predict\n",
    "from sklearn.model_selection import GridSearchCV\n",
    "\n",
    "from sklearn.metrics import confusion_matrix, accuracy_score, roc_auc_score\n",
    "from sklearn.metrics import precision_score, recall_score, f1_score, precision_recall_curve, roc_curve\n",
    "\n",
    "from sklearn.preprocessing import StandardScaler\n",
    "\n",
    "import numpy as np\n",
    "%matplotlib inline\n",
    "import matplotlib\n",
    "import matplotlib.pyplot as plt"
   ]
  },
  {
   "cell_type": "code",
   "execution_count": 2,
   "metadata": {},
   "outputs": [],
   "source": [
    "# Fetch Data\n",
    "df_X, df_y = fetch_openml('mnist_784', version=1, return_X_y=True)"
   ]
  },
  {
   "cell_type": "code",
   "execution_count": 98,
   "metadata": {},
   "outputs": [],
   "source": [
    "# MNIST comes (aparently) already in separated train - test set (last 10,000 images)\n",
    "X = df_X.to_numpy()\n",
    "y = df_y.to_numpy()\n",
    "X = X / 255.\n",
    "\n",
    "train_samps = 67500\n",
    "X_train, X_test, y_train, y_test = X[:train_samps], X[train_samps:], y[:train_samps], y[train_samps:]\n",
    "# Shuffle train set\n",
    "shuffled_idx = np.random.permutation(train_samps)\n",
    "X_train, y_train = X_train[shuffled_idx], y_train[shuffled_idx]\n",
    "\n",
    "scaler = StandardScaler()\n",
    "X_train_scaled = scaler.fit_transform(X_train.astype(np.float64))  # not sure why this makes sense here\n",
    "X_test_scaled = scaler.fit_transform(X_test.astype(np.float64))"
   ]
  },
  {
   "cell_type": "code",
   "execution_count": 58,
   "metadata": {},
   "outputs": [
    {
     "data": {
      "image/png": "[encoded data removed]",
      "text/plain": [
       "<Figure size 432x288 with 1 Axes>"
      ]
     },
     "metadata": {
      "needs_background": "light"
     },
     "output_type": "display_data"
    },
    {
     "data": {
      "text/plain": [
       "array(['8', '7', '8', '8', '7', '7', '4', '0', '1', '0', '1', '7', '0',\n",
       "       '4', '8', '7', '3', '4', '7', '2', '6', '4', '5', '9', '0', '7',\n",
       "       '4', '5', '4', '6'], dtype=object)"
      ]
     },
     "execution_count": 58,
     "metadata": {},
     "output_type": "execute_result"
    }
   ],
   "source": [
    "plt.hist(y_test)\n",
    "plt.show()\n",
    "\n",
    "y_train[:30]"
   ]
  },
  {
   "cell_type": "markdown",
   "metadata": {},
   "source": [
    "### Data Augmentation"
   ]
  },
  {
   "cell_type": "code",
   "execution_count": 86,
   "metadata": {},
   "outputs": [
    {
     "name": "stdout",
     "output_type": "stream",
     "text": [
      "0 processed images\n",
      "500 processed images\n",
      "1000 processed images\n",
      "1500 processed images\n",
      "2000 processed images\n",
      "2500 processed images\n",
      "3000 processed images\n",
      "3500 processed images\n",
      "4000 processed images\n",
      "4500 processed images\n",
      "5000 processed images\n",
      "5500 processed images\n",
      "6000 processed images\n",
      "6500 processed images\n",
      "7000 processed images\n",
      "7500 processed images\n",
      "8000 processed images\n",
      "8500 processed images\n",
      "9000 processed images\n",
      "9500 processed images\n",
      "10000 processed images\n",
      "10500 processed images\n",
      "11000 processed images\n",
      "11500 processed images\n",
      "12000 processed images\n",
      "12500 processed images\n",
      "13000 processed images\n",
      "13500 processed images\n",
      "14000 processed images\n",
      "14500 processed images\n",
      "15000 processed images\n",
      "15500 processed images\n",
      "16000 processed images\n",
      "16500 processed images\n",
      "17000 processed images\n",
      "17500 processed images\n",
      "18000 processed images\n",
      "18500 processed images\n",
      "19000 processed images\n",
      "19500 processed images\n",
      "20000 processed images\n",
      "20500 processed images\n",
      "21000 processed images\n",
      "21500 processed images\n",
      "22000 processed images\n",
      "22500 processed images\n",
      "23000 processed images\n",
      "23500 processed images\n",
      "24000 processed images\n",
      "24500 processed images\n",
      "25000 processed images\n",
      "25500 processed images\n",
      "26000 processed images\n",
      "26500 processed images\n",
      "27000 processed images\n",
      "27500 processed images\n",
      "28000 processed images\n",
      "28500 processed images\n",
      "29000 processed images\n",
      "29500 processed images\n",
      "30000 processed images\n",
      "30500 processed images\n",
      "31000 processed images\n",
      "31500 processed images\n",
      "32000 processed images\n",
      "32500 processed images\n",
      "33000 processed images\n",
      "33500 processed images\n",
      "34000 processed images\n",
      "34500 processed images\n",
      "35000 processed images\n",
      "35500 processed images\n",
      "36000 processed images\n",
      "36500 processed images\n",
      "37000 processed images\n",
      "37500 processed images\n",
      "38000 processed images\n",
      "38500 processed images\n",
      "39000 processed images\n",
      "39500 processed images\n",
      "40000 processed images\n",
      "40500 processed images\n",
      "41000 processed images\n",
      "41500 processed images\n",
      "42000 processed images\n",
      "42500 processed images\n",
      "43000 processed images\n",
      "43500 processed images\n",
      "44000 processed images\n",
      "44500 processed images\n",
      "45000 processed images\n",
      "45500 processed images\n",
      "46000 processed images\n",
      "46500 processed images\n",
      "47000 processed images\n",
      "47500 processed images\n",
      "48000 processed images\n",
      "48500 processed images\n",
      "49000 processed images\n",
      "49500 processed images\n",
      "50000 processed images\n",
      "50500 processed images\n",
      "51000 processed images\n",
      "51500 processed images\n",
      "52000 processed images\n",
      "52500 processed images\n",
      "53000 processed images\n",
      "53500 processed images\n",
      "54000 processed images\n",
      "54500 processed images\n",
      "55000 processed images\n",
      "55500 processed images\n",
      "56000 processed images\n",
      "56500 processed images\n",
      "57000 processed images\n",
      "57500 processed images\n",
      "58000 processed images\n",
      "58500 processed images\n",
      "59000 processed images\n",
      "59500 processed images\n",
      "60000 processed images\n",
      "60500 processed images\n",
      "61000 processed images\n",
      "61500 processed images\n",
      "62000 processed images\n",
      "62500 processed images\n",
      "63000 processed images\n",
      "63500 processed images\n",
      "64000 processed images\n",
      "64500 processed images\n",
      "65000 processed images\n",
      "65500 processed images\n",
      "66000 processed images\n",
      "66500 processed images\n",
      "67000 processed images\n"
     ]
    }
   ],
   "source": [
    "from scipy.ndimage.interpolation import shift\n",
    "\n",
    "shifts = {1: [0, 1], 2: [0, -1], 3: [1, 0], 4: [-1, 0]}\n",
    "\n",
    "X_train_aug = np.zeros((train_samps * len(shifts), 784), dtype=np.float64)\n",
    "y_train_aug = np.empty(train_samps * len(shifts), dtype=str)\n",
    "# zeros (parenthesis), empty (no parenthesis), append, vstack & hstack (brackets)\n",
    "\n",
    "img_idx = 0\n",
    "for idx, (img, label) in enumerate(zip(X_train, y_train)):\n",
    "\n",
    "    if idx % 500 == 0: print(f\"{idx} processed images\")\n",
    "    \n",
    "    for num in range(1, 5):\n",
    "        X_train_aug[img_idx, :] = shift(img.reshape(28, 28), shifts[num]).reshape(1, 784)\n",
    "        y_train_aug[img_idx] = label\n",
    "        img_idx += 1\n",
    "\n",
    "X_train_aug = np.vstack([X_train, X_train_aug])\n",
    "y_train_aug = np.hstack([y_train, y_train_aug])\n",
    "print(f\"Train test shape {X_train_aug.shape}, labels shape {y_train_aug.shape}\")\n",
    "        "
   ]
  },
  {
   "cell_type": "code",
   "execution_count": 87,
   "metadata": {},
   "outputs": [
    {
     "data": {
      "text/plain": [
       "(337500,)"
      ]
     },
     "execution_count": 87,
     "metadata": {},
     "output_type": "execute_result"
    }
   ],
   "source": []
  },
  {
   "cell_type": "code",
   "execution_count": 90,
   "metadata": {},
   "outputs": [
    {
     "data": {
      "image/png": "[encoded data removed]",
      "text/plain": [
       "<Figure size 432x288 with 1 Axes>"
      ]
     },
     "metadata": {
      "needs_background": "light"
     },
     "output_type": "display_data"
    },
    {
     "data": {
      "text/plain": [
       "'4'"
      ]
     },
     "execution_count": 90,
     "metadata": {},
     "output_type": "execute_result"
    }
   ],
   "source": [
    "# Data sanity check\n",
    "img_num = 335000\n",
    "plt.imshow(X_train[img_num, :].reshape(28, 28), cmap=matplotlib.cm.binary)\n",
    "plt.axis('off')\n",
    "plt.show()\n",
    "y_train[img_num]"
   ]
  },
  {
   "cell_type": "markdown",
   "metadata": {},
   "source": [
    "# Binary Classification (5 vs non 5)"
   ]
  },
  {
   "cell_type": "code",
   "execution_count": 5,
   "metadata": {},
   "outputs": [
    {
     "data": {
      "text/plain": [
       "SGDClassifier(random_state=42)"
      ]
     },
     "execution_count": 5,
     "metadata": {},
     "output_type": "execute_result"
    }
   ],
   "source": [
    "# Binary Classifier [5 vs non 5]\n",
    "y_train_5 = (y_train == '5')\n",
    "y_test_5 = (y_test == '5')\n",
    "\n",
    "sgd_clf = SGDClassifier(random_state=42)\n",
    "sgd_clf.fit(X_train, y_train_5)"
   ]
  },
  {
   "cell_type": "code",
   "execution_count": 6,
   "metadata": {},
   "outputs": [
    {
     "name": "stdout",
     "output_type": "stream",
     "text": [
      "[False] 9\n"
     ]
    }
   ],
   "source": [
    "# test one prediction\n",
    "num = 7171\n",
    "predictions = sgd_clf.predict(X_train[num,:].reshape(1, 784))\n",
    "print(predictions, y_train[num])"
   ]
  },
  {
   "cell_type": "code",
   "execution_count": 7,
   "metadata": {},
   "outputs": [
    {
     "name": "stdout",
     "output_type": "stream",
     "text": [
      "0.9781\n"
     ]
    },
    {
     "data": {
      "text/plain": [
       "0.9781"
      ]
     },
     "execution_count": 7,
     "metadata": {},
     "output_type": "execute_result"
    }
   ],
   "source": [
    "# Evaluate accuracy on the test set\n",
    "predictions = sgd_clf.predict(X_test)\n",
    "test_accuracy = np.mean( [ 1 if (prediction == True and label =='5') or (prediction == False and label !='5') else 0 for prediction, label in zip(predictions, y_test)])\n",
    "print(test_accuracy)\n",
    "accuracy_score(predictions, y_test_5)\n"
   ]
  },
  {
   "cell_type": "code",
   "execution_count": 8,
   "metadata": {},
   "outputs": [
    {
     "data": {
      "text/plain": [
       "array([0.97105, 0.96635, 0.972  ])"
      ]
     },
     "execution_count": 8,
     "metadata": {},
     "output_type": "execute_result"
    }
   ],
   "source": [
    "# Evaluate the test set with Cross Validation\n",
    "cross_val_score(sgd_clf, X_train, y_train_5, cv=3, scoring='accuracy')\n"
   ]
  },
  {
   "cell_type": "code",
   "execution_count": 9,
   "metadata": {},
   "outputs": [
    {
     "data": {
      "text/plain": [
       "array([[54335,   244],\n",
       "       [ 1568,  3853]])"
      ]
     },
     "execution_count": 9,
     "metadata": {},
     "output_type": "execute_result"
    }
   ],
   "source": [
    "# Compute the confusion matrix\n",
    "y_train_pred = cross_val_predict(sgd_clf, X_train, y_train_5, cv=3)\n",
    "confusion_matrix(y_train_5, y_train_pred)"
   ]
  },
  {
   "cell_type": "code",
   "execution_count": 11,
   "metadata": {},
   "outputs": [
    {
     "name": "stdout",
     "output_type": "stream",
     "text": [
      "Precision: 0.9404442274835245\n",
      "Recall: 0.7107544733444014\n",
      "F1 score: 0.8096238705610422\n"
     ]
    }
   ],
   "source": [
    "# Precision,  Recall and F1 score\n",
    "print(f\"Precision: {precision_score(y_train_5, y_train_pred)}\")\n",
    "print(f\"Recall: {recall_score(y_train_5, y_train_pred)}\")\n",
    "print(f\"F1 score: {f1_score(y_train_5, y_train_pred)}\")"
   ]
  },
  {
   "cell_type": "code",
   "execution_count": 17,
   "metadata": {},
   "outputs": [
    {
     "data": {
      "image/png": "[encoded data removed]",
      "text/plain": [
       "<Figure size 432x288 with 1 Axes>"
      ]
     },
     "metadata": {
      "needs_background": "light"
     },
     "output_type": "display_data"
    }
   ],
   "source": [
    "# Precision and recall tradeoff\n",
    "\n",
    "# Select the decision threshold for the classifier\n",
    "y_scores = cross_val_predict(sgd_clf, X_train, y_train_5, cv=3, method='decision_function')\n",
    "\n",
    "precisions, recalls, thresholds = precision_recall_curve(y_train_5, y_scores)"
   ]
  },
  {
   "cell_type": "code",
   "execution_count": 21,
   "metadata": {},
   "outputs": [
    {
     "data": {
      "image/png": "[encoded data removed]",
      "text/plain": [
       "<Figure size 432x288 with 1 Axes>"
      ]
     },
     "metadata": {
      "needs_background": "light"
     },
     "output_type": "display_data"
    }
   ],
   "source": [
    "# Plot precision / recall tradeoff\n",
    "plt.plot(thresholds, precisions[:-1], \"b--\", label=\"precision\")\n",
    "plt.plot(thresholds, recalls[:-1], \"r-\", label=\"recall\")\n",
    "plt.legend(loc=\"upper left\")\n",
    "plt.ylim([0, 1])\n",
    "plt.show()"
   ]
  },
  {
   "cell_type": "code",
   "execution_count": 23,
   "metadata": {},
   "outputs": [
    {
     "data": {
      "image/png": "[encoded data removed]",
      "text/plain": [
       "<Figure size 432x288 with 1 Axes>"
      ]
     },
     "metadata": {
      "needs_background": "light"
     },
     "output_type": "display_data"
    }
   ],
   "source": [
    "# plot precision / recall\n",
    "plt.plot(recalls, precisions, \"k-\")\n",
    "plt.xlabel(\"Recall\")\n",
    "plt.ylabel(\"Precision\")\n",
    "plt.show()"
   ]
  },
  {
   "cell_type": "code",
   "execution_count": 34,
   "metadata": {},
   "outputs": [
    {
     "name": "stdout",
     "output_type": "stream",
     "text": [
      "ROC score: 0.9703224858223598\n"
     ]
    },
    {
     "data": {
      "image/png": "[encoded data removed]",
      "text/plain": [
       "<Figure size 432x288 with 1 Axes>"
      ]
     },
     "metadata": {
      "needs_background": "light"
     },
     "output_type": "display_data"
    }
   ],
   "source": [
    "# ROC curve\n",
    "print(f\"ROC score: {roc_auc_score(y_train_5, y_scores)}\")\n",
    "fpr, tpr, thresholds = roc_curve(y_train_5, y_scores)\n",
    "\n",
    "plt.plot(fpr, tpr, 'b-')\n",
    "plt.plot([0, 1], [0, 1], 'k--')\n",
    "plt.ylabel(\"True Positive Rate\")\n",
    "plt.xlabel(\"False Positive Rate\")\n",
    "plt.axis([0, 1, 0, 1])\n",
    "plt.show()"
   ]
  },
  {
   "cell_type": "code",
   "execution_count": 37,
   "metadata": {},
   "outputs": [],
   "source": [
    "# Compare SGD with RandomForest\n",
    "forest_clf = RandomForestClassifier(random_state=42)\n",
    "y_probas_forest = cross_val_predict(forest_clf, X_train, y_train_5, cv=3, method=\"predict_proba\")"
   ]
  },
  {
   "cell_type": "code",
   "execution_count": 45,
   "metadata": {},
   "outputs": [
    {
     "name": "stdout",
     "output_type": "stream",
     "text": [
      "ROC AUC Random Forest 0.9984970448056693\n"
     ]
    }
   ],
   "source": [
    "y_scores_forest = y_probas_forest[:, 1]\n",
    "fpr_forest, tpr_forest, thresholds_forest = roc_curve(y_train_5, y_scores_forest)\n",
    "print(f\"ROC AUC Random Forest {roc_auc_score(y_train_5, y_scores_forest)}\")"
   ]
  },
  {
   "cell_type": "code",
   "execution_count": 43,
   "metadata": {},
   "outputs": [
    {
     "data": {
      "image/png": "[encoded data removed]",
      "text/plain": [
       "<Figure size 432x288 with 1 Axes>"
      ]
     },
     "metadata": {
      "needs_background": "light"
     },
     "output_type": "display_data"
    }
   ],
   "source": [
    "plt.plot(fpr, tpr, 'b-', label=\"SGD\")\n",
    "plt.plot(fpr_forest, tpr_forest, 'g-', label=\"RandomForest\")\n",
    "plt.ylabel(\"True Positive Rate\")\n",
    "plt.xlabel(\"False Positive Rate\")\n",
    "plt.legend(loc=\"lower right\")\n",
    "plt.axis([0, 1, 0, 1])\n",
    "plt.show()"
   ]
  },
  {
   "cell_type": "markdown",
   "metadata": {},
   "source": [
    "# Multilabel classification"
   ]
  },
  {
   "cell_type": "code",
   "execution_count": 46,
   "metadata": {},
   "outputs": [
    {
     "data": {
      "text/plain": [
       "RandomForestClassifier(random_state=42)"
      ]
     },
     "execution_count": 46,
     "metadata": {},
     "output_type": "execute_result"
    }
   ],
   "source": [
    "forest_clf.fit(X_train, y_train)"
   ]
  },
  {
   "cell_type": "code",
   "execution_count": 61,
   "metadata": {},
   "outputs": [
    {
     "name": "stdout",
     "output_type": "stream",
     "text": [
      "[[0.   0.   0.   0.   0.01 0.   0.   0.02 0.   0.97]]\n",
      "Predicted: ['9'], ground truth: 9, Probability: 9\n",
      "Accuracy: 1.0\n"
     ]
    }
   ],
   "source": [
    "# Predict class and Obtain probabilities for each class\n",
    "num = 6546\n",
    "y_pred = forest_clf.predict(X_train[num, :].reshape(1, 784))\n",
    "y_proba = forest_clf.predict_proba(X_train[num, :].reshape(1, 784))\n",
    "print(y_proba)\n",
    "print(f\"Predicted: {y_pred}, ground truth: {y_train[num]}, Probability: {np.argmax(y_proba)}\")\n",
    "\n",
    "# Total Accuracy\n",
    "predictions = forest_clf.predict(X_train)\n",
    "print(f\"Accuracy: {accuracy_score(predictions, y_train)}\")"
   ]
  },
  {
   "cell_type": "code",
   "execution_count": 63,
   "metadata": {},
   "outputs": [],
   "source": [
    "# Cross Validation\n",
    "y_score = cross_val_score(forest_clf, X_train, y_train, cv=3, scoring=\"accuracy\")"
   ]
  },
  {
   "cell_type": "code",
   "execution_count": 71,
   "metadata": {},
   "outputs": [
    {
     "name": "stdout",
     "output_type": "stream",
     "text": [
      "[0.9652  0.96485 0.96715]\n"
     ]
    }
   ],
   "source": [
    "# Scaling data improves performance\n",
    "\n",
    "y_score_scaled = cross_val_score(forest_clf, X_train_scaled, y_train, cv=3, scoring=\"accuracy\")\n",
    "\n",
    "print(y_score)\n",
    "print(y_score_scaled)"
   ]
  },
  {
   "cell_type": "code",
   "execution_count": 76,
   "metadata": {},
   "outputs": [],
   "source": [
    "# Error Analysis: Confusion Matrix\n",
    "y_train_pred = cross_val_predict(forest_clf, X_train_scaled, y_train, cv=3)\n",
    "cfm = confusion_matrix(y_train, y_train_pred)\n"
   ]
  },
  {
   "cell_type": "code",
   "execution_count": 79,
   "metadata": {},
   "outputs": [
    {
     "data": {
      "image/png": "[encoded data removed]",
      "text/plain": [
       "<Figure size 432x288 with 1 Axes>"
      ]
     },
     "metadata": {
      "needs_background": "light"
     },
     "output_type": "display_data"
    }
   ],
   "source": [
    "plt.imshow(cfm)\n",
    "plt.show()"
   ]
  },
  {
   "cell_type": "markdown",
   "metadata": {},
   "source": [
    "## Grid Search of hyperparameters"
   ]
  },
  {
   "cell_type": "markdown",
   "metadata": {},
   "source": [
    "The optimal hyper-parameters are 'n_neighbors': 3, 'weights': 'distance'"
   ]
  },
  {
   "cell_type": "code",
   "execution_count": 99,
   "metadata": {},
   "outputs": [
    {
     "name": "stdout",
     "output_type": "stream",
     "text": [
      "Fitting 3 folds for each of 6 candidates, totalling 18 fits\n",
      "KNeighborsClassifier(n_neighbors=4, weights='distance')\n"
     ]
    }
   ],
   "source": [
    "param_grid = [{'n_neighbors': [3, 4, 5], 'weights': ['uniform', 'distance']}]\n",
    "grid_search = GridSearchCV(knn_clf, param_grid, scoring=\"accuracy\", cv=3, n_jobs=-1, verbose=3)\n",
    "grid_search.fit(X_train, y_train)\n",
    "final_model = grid_search.best_estimator_\n",
    "print(final_model)\n"
   ]
  },
  {
   "cell_type": "code",
   "execution_count": 100,
   "metadata": {},
   "outputs": [
    {
     "data": {
      "text/plain": [
       "{'n_neighbors': 4, 'weights': 'distance'}"
      ]
     },
     "execution_count": 100,
     "metadata": {},
     "output_type": "execute_result"
    }
   ],
   "source": [
    "grid_search.best_params_"
   ]
  },
  {
   "cell_type": "code",
   "execution_count": 102,
   "metadata": {},
   "outputs": [
    {
     "name": "stdout",
     "output_type": "stream",
     "text": [
      "0.9699555555555556 {'n_neighbors': 3, 'weights': 'uniform'}\n",
      "0.9712740740740741 {'n_neighbors': 3, 'weights': 'distance'}\n",
      "0.9680592592592592 {'n_neighbors': 4, 'weights': 'uniform'}\n",
      "0.9718370370370372 {'n_neighbors': 4, 'weights': 'distance'}\n",
      "0.9686814814814815 {'n_neighbors': 5, 'weights': 'uniform'}\n",
      "0.9700000000000001 {'n_neighbors': 5, 'weights': 'distance'}\n"
     ]
    }
   ],
   "source": [
    "cvres = grid_search.cv_results_\n",
    "xx = [print(score, params) for score, params in zip(cvres[\"mean_test_score\"], cvres[\"params\"])]"
   ]
  },
  {
   "cell_type": "code",
   "execution_count": 101,
   "metadata": {},
   "outputs": [
    {
     "data": {
      "text/plain": [
       "0.9856"
      ]
     },
     "execution_count": 101,
     "metadata": {},
     "output_type": "execute_result"
    }
   ],
   "source": [
    "y_pred = grid_search.predict(X_test)\n",
    "accuracy_score(y_test, y_pred)"
   ]
  },
  {
   "cell_type": "markdown",
   "metadata": {},
   "source": [
    "# K-NNs classifier\n",
    "Exercise 1 of chapter 3: \n",
    "Try to improve the accuracy to more than 97% on the test set. \n",
    "\n",
    "First we check the baseline results of the K-NNs classifier. As expected, we get 96.9% as the maximum score. We use the hyperparameters selected with the grid search. They reach 97% and 95% accuracy for train and test. \n",
    "\n",
    "With data augmentation: the more images the algorithm uses, the better the performance. I used 'shift' to add 4 times more data to the training set to try to reach >97% in the test set.\n",
    "Results: "
   ]
  },
  {
   "cell_type": "code",
   "execution_count": 103,
   "metadata": {},
   "outputs": [
    {
     "data": {
      "text/plain": [
       "KNeighborsClassifier(n_neighbors=4, weights='distance')"
      ]
     },
     "execution_count": 103,
     "metadata": {},
     "output_type": "execute_result"
    }
   ],
   "source": [
    "knn_clf = KNeighborsClassifier(n_neighbors=4, weights='distance')\n",
    "knn_clf.fit(X_train, y_train)"
   ]
  },
  {
   "cell_type": "code",
   "execution_count": 104,
   "metadata": {},
   "outputs": [
    {
     "name": "stdout",
     "output_type": "stream",
     "text": [
      "Accuracy for train set: [0.97266667 0.97102222 0.97182222]\n"
     ]
    }
   ],
   "source": [
    "y_train_pred = cross_val_score(knn_clf, X_train, y_train, cv=3, scoring=\"accuracy\")\n",
    "print(f\"Accuracy for train set: {y_train_pred}\")"
   ]
  },
  {
   "cell_type": "code",
   "execution_count": 105,
   "metadata": {},
   "outputs": [
    {
     "name": "stdout",
     "output_type": "stream",
     "text": [
      "Accuracy for the test set: 0.9856\n"
     ]
    }
   ],
   "source": [
    "predicted = knn_clf.predict(X_test)\n",
    "print(f\"Accuracy for the test set: {accuracy_score(y_test, predicted)}\")\n"
   ]
  }
 ],
 "metadata": {
  "kernelspec": {
   "display_name": "Python 3",
   "language": "python",
   "name": "python3"
  },
  "language_info": {
   "codemirror_mode": {
    "name": "ipython",
    "version": 3
   },
   "file_extension": ".py",
   "mimetype": "text/x-python",
   "name": "python",
   "nbconvert_exporter": "python",
   "pygments_lexer": "ipython3",
   "version": "3.7.4"
  }
 },
 "nbformat": 4,
 "nbformat_minor": 2
}
